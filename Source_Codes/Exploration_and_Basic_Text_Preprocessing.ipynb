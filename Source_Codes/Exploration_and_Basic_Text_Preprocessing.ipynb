{
 "cells": [
  {
   "cell_type": "markdown",
   "metadata": {},
   "source": [
    "# Initial Exploration\n",
    "Before any preprocessing is done, the text data in its raw form can be explored to observe some featuers in raw form. Typically, the text in interest can be a single long text such as a news transcript or a colleciton of texts such as retaurant reviews or movie reviews. We will work with both the type simultaneously in this notebook.<br>\n",
    "Sample1 : A news transcript taken from https://www.foxnews.com/transcript/biden-slams-texas-mississippi-for-covid-reopening-measures .<br>\n",
    "Sample2 :  A set of IMDB reviews taken from http://ai.stanford.edu/~amaas/data/sentiment/\n",
    "\n",
    "\n",
    "This notebook takes ideas from multiple books and articles."
   ]
  },
  {
   "cell_type": "markdown",
   "metadata": {},
   "source": [
    "### Import libraries"
   ]
  },
  {
   "cell_type": "code",
   "execution_count": 159,
   "metadata": {},
   "outputs": [],
   "source": [
    "import os\n",
    "import pandas as pd"
   ]
  },
  {
   "cell_type": "code",
   "execution_count": 160,
   "metadata": {},
   "outputs": [],
   "source": [
    "# Read news transcription\n",
    "\n",
    "path_to_file_1 = \"../data/example_text.txt\"\n",
    "with open(path_to_file_1) as f:\n",
    "    raw_text_1 = f.read()        # reads all the contents into a single string\n",
    "                             # can read one line at a time and treat each line as separate using readlines() \n",
    "\n",
    "\n",
    "# Read Reviews       \n",
    "def build_data_frame(path):\n",
    "    rows = []\n",
    "    index = []\n",
    "    review_count = 0\n",
    "    \n",
    "    all_files = os.listdir(path)#os.walk(path)\n",
    "    \n",
    "    for filename in all_files:\n",
    "        \n",
    "        with open(path+filename) as f:\n",
    "            raw_text = f.read()\n",
    "            rows.append(raw_text)\n",
    "        index.append(filename)\n",
    "        review_count += 1\n",
    "        \n",
    "        # We will use only 300 review for simplicity for now.\n",
    "        if review_count == 300:\n",
    "            break\n",
    "    \n",
    "\n",
    "    data_frame = pd.DataFrame(rows, index=index)\n",
    "    return data_frame\n",
    "\n",
    "        \n",
    "path_to_files_2 = \"../data/imdb/train/unsup/\"\n",
    "\n",
    "reviews = build_data_frame(path_to_files_2)"
   ]
  },
  {
   "cell_type": "markdown",
   "metadata": {},
   "source": [
    "### Observe the contents and impurities"
   ]
  },
  {
   "cell_type": "markdown",
   "metadata": {},
   "source": [
    "Any text in it raw form contains many impurities like abbreviations, white spaces, special characters, dates, etc. This can be observed in the news transcription as well."
   ]
  },
  {
   "cell_type": "code",
   "execution_count": 161,
   "metadata": {},
   "outputs": [
    {
     "name": "stdout",
     "output_type": "stream",
     "text": [
      "This is a rush transcript from \"Special Report\" March 3, 2021. This copy may not be in its final form and may be updated.\n",
      "\n",
      "BRET BAIER, FOX NEWS ANCHOR (on camera): Jesse, I'm very excited about your\n",
      "book now that you'll have the different kinds of dog.\n",
      "\n",
      "WATTERS: Thank you. And if you want to send me a book, Bret on any subject,\n",
      "please do, but make sure it has pictures, OK?\n",
      "\n",
      "BAIER: OK, pictures you got it. Thank you.\n",
      "\n",
      "Good evening. I'm Bret Baier. Breaking tonight, we are covering three big\n",
      "stori\n"
     ]
    }
   ],
   "source": [
    "print(raw_text_1[0:500])"
   ]
  },
  {
   "cell_type": "markdown",
   "metadata": {},
   "source": [
    "This method of reading a file is fine as long as the text file contains only ASCII characters. The character encoding for such texts is US-ASCII. However, we might encounter text files with characters from other languages that are not addressed by US-ASCII encoding e.g., UTF-8. Wikipedia says \"character encoding is used to represent a repertoire of characters by some kind of encoding system that assigns a number to each character for digital representation.\" This has to be taken care of while reading a text file for preprocessing."
   ]
  },
  {
   "cell_type": "markdown",
   "metadata": {},
   "source": [
    "The reviews also contain impurities"
   ]
  },
  {
   "cell_type": "code",
   "execution_count": 162,
   "metadata": {},
   "outputs": [
    {
     "data": {
      "text/html": [
       "<div>\n",
       "<style scoped>\n",
       "    .dataframe tbody tr th:only-of-type {\n",
       "        vertical-align: middle;\n",
       "    }\n",
       "\n",
       "    .dataframe tbody tr th {\n",
       "        vertical-align: top;\n",
       "    }\n",
       "\n",
       "    .dataframe thead th {\n",
       "        text-align: right;\n",
       "    }\n",
       "</style>\n",
       "<table border=\"1\" class=\"dataframe\">\n",
       "  <thead>\n",
       "    <tr style=\"text-align: right;\">\n",
       "      <th></th>\n",
       "      <th>0</th>\n",
       "    </tr>\n",
       "  </thead>\n",
       "  <tbody>\n",
       "    <tr>\n",
       "      <th>0_0.txt</th>\n",
       "      <td>I admit, the great majority of films released ...</td>\n",
       "    </tr>\n",
       "    <tr>\n",
       "      <th>10000_0.txt</th>\n",
       "      <td>Take a low budget, inexperienced actors doubli...</td>\n",
       "    </tr>\n",
       "    <tr>\n",
       "      <th>10001_0.txt</th>\n",
       "      <td>Everybody has seen 'Back To The Future,' right...</td>\n",
       "    </tr>\n",
       "    <tr>\n",
       "      <th>10002_0.txt</th>\n",
       "      <td>Doris Day was an icon of beauty in singing and...</td>\n",
       "    </tr>\n",
       "    <tr>\n",
       "      <th>10003_0.txt</th>\n",
       "      <td>After a series of silly, fun-loving movies, 19...</td>\n",
       "    </tr>\n",
       "  </tbody>\n",
       "</table>\n",
       "</div>"
      ],
      "text/plain": [
       "                                                             0\n",
       "0_0.txt      I admit, the great majority of films released ...\n",
       "10000_0.txt  Take a low budget, inexperienced actors doubli...\n",
       "10001_0.txt  Everybody has seen 'Back To The Future,' right...\n",
       "10002_0.txt  Doris Day was an icon of beauty in singing and...\n",
       "10003_0.txt  After a series of silly, fun-loving movies, 19..."
      ]
     },
     "execution_count": 162,
     "metadata": {},
     "output_type": "execute_result"
    }
   ],
   "source": [
    "reviews.head()"
   ]
  },
  {
   "cell_type": "markdown",
   "metadata": {},
   "source": [
    "### Assess the lengths of the reviews. Typically, negative reviews and comments tend to be shorter. Also, longer the review, more content it has."
   ]
  },
  {
   "cell_type": "code",
   "execution_count": 163,
   "metadata": {},
   "outputs": [],
   "source": [
    "reviews.columns = [\"review\"]\n",
    "\n",
    "# calculate word count for each of the reviews.\n",
    "review_column = reviews[\"review\"]\n",
    "word_counts = [len(review.split(\" \")) for review in review_column]\n",
    "\n",
    "reviews[\"wordcount\"] = word_counts"
   ]
  },
  {
   "cell_type": "code",
   "execution_count": 164,
   "metadata": {},
   "outputs": [
    {
     "data": {
      "text/html": [
       "<div>\n",
       "<style scoped>\n",
       "    .dataframe tbody tr th:only-of-type {\n",
       "        vertical-align: middle;\n",
       "    }\n",
       "\n",
       "    .dataframe tbody tr th {\n",
       "        vertical-align: top;\n",
       "    }\n",
       "\n",
       "    .dataframe thead th {\n",
       "        text-align: right;\n",
       "    }\n",
       "</style>\n",
       "<table border=\"1\" class=\"dataframe\">\n",
       "  <thead>\n",
       "    <tr style=\"text-align: right;\">\n",
       "      <th></th>\n",
       "      <th>review</th>\n",
       "      <th>wordcount</th>\n",
       "    </tr>\n",
       "  </thead>\n",
       "  <tbody>\n",
       "    <tr>\n",
       "      <th>0_0.txt</th>\n",
       "      <td>I admit, the great majority of films released ...</td>\n",
       "      <td>139</td>\n",
       "    </tr>\n",
       "    <tr>\n",
       "      <th>10000_0.txt</th>\n",
       "      <td>Take a low budget, inexperienced actors doubli...</td>\n",
       "      <td>154</td>\n",
       "    </tr>\n",
       "    <tr>\n",
       "      <th>10001_0.txt</th>\n",
       "      <td>Everybody has seen 'Back To The Future,' right...</td>\n",
       "      <td>305</td>\n",
       "    </tr>\n",
       "    <tr>\n",
       "      <th>10002_0.txt</th>\n",
       "      <td>Doris Day was an icon of beauty in singing and...</td>\n",
       "      <td>125</td>\n",
       "    </tr>\n",
       "    <tr>\n",
       "      <th>10003_0.txt</th>\n",
       "      <td>After a series of silly, fun-loving movies, 19...</td>\n",
       "      <td>197</td>\n",
       "    </tr>\n",
       "    <tr>\n",
       "      <th>10004_0.txt</th>\n",
       "      <td>This isn't exactly a musical, but it almost se...</td>\n",
       "      <td>240</td>\n",
       "    </tr>\n",
       "    <tr>\n",
       "      <th>10005_0.txt</th>\n",
       "      <td>After seven years and seventeen pictures at Wa...</td>\n",
       "      <td>377</td>\n",
       "    </tr>\n",
       "    <tr>\n",
       "      <th>10006_0.txt</th>\n",
       "      <td>In the 1950's there were many film boigraphies...</td>\n",
       "      <td>217</td>\n",
       "    </tr>\n",
       "    <tr>\n",
       "      <th>10007_0.txt</th>\n",
       "      <td>MY RATING- 7.3&lt;br /&gt;&lt;br /&gt;This one is a curiou...</td>\n",
       "      <td>95</td>\n",
       "    </tr>\n",
       "    <tr>\n",
       "      <th>10008_0.txt</th>\n",
       "      <td>Doris Day and James Cagney are excellent in th...</td>\n",
       "      <td>154</td>\n",
       "    </tr>\n",
       "  </tbody>\n",
       "</table>\n",
       "</div>"
      ],
      "text/plain": [
       "                                                        review  wordcount\n",
       "0_0.txt      I admit, the great majority of films released ...        139\n",
       "10000_0.txt  Take a low budget, inexperienced actors doubli...        154\n",
       "10001_0.txt  Everybody has seen 'Back To The Future,' right...        305\n",
       "10002_0.txt  Doris Day was an icon of beauty in singing and...        125\n",
       "10003_0.txt  After a series of silly, fun-loving movies, 19...        197\n",
       "10004_0.txt  This isn't exactly a musical, but it almost se...        240\n",
       "10005_0.txt  After seven years and seventeen pictures at Wa...        377\n",
       "10006_0.txt  In the 1950's there were many film boigraphies...        217\n",
       "10007_0.txt  MY RATING- 7.3<br /><br />This one is a curiou...         95\n",
       "10008_0.txt  Doris Day and James Cagney are excellent in th...        154"
      ]
     },
     "execution_count": 164,
     "metadata": {},
     "output_type": "execute_result"
    }
   ],
   "source": [
    "reviews[0:10]"
   ]
  },
  {
   "cell_type": "markdown",
   "metadata": {},
   "source": [
    "We can plot the pmf for the lengths of the reviews to assess the content size."
   ]
  },
  {
   "cell_type": "code",
   "execution_count": 165,
   "metadata": {},
   "outputs": [
    {
     "data": {
      "image/png": "[encoded data removed]",
      "text/plain": [
       "<Figure size 432x288 with 1 Axes>"
      ]
     },
     "metadata": {
      "needs_background": "light"
     },
     "output_type": "display_data"
    }
   ],
   "source": [
    "import matplotlib.pyplot as plt\n",
    "%matplotlib inline\n",
    "\n",
    "num_bins = 20\n",
    "n, bins, patches = plt.hist(reviews[\"wordcount\"], num_bins, facecolor='blue', alpha=0.5)\n",
    "plt.show()"
   ]
  },
  {
   "cell_type": "markdown",
   "metadata": {},
   "source": [
    "Similarly, several other attributes such as the average lenght of word in each review can be observed if necessary according to the problem in hand."
   ]
  },
  {
   "cell_type": "markdown",
   "metadata": {},
   "source": [
    "# Basic Preprocessing"
   ]
  },
  {
   "cell_type": "markdown",
   "metadata": {},
   "source": [
    "Now, we move on to actual preprocessing of the text data. In this nodebook, we will cover the basic preprocessing that is done on text data before moving on to advanved preprocessing steps that require some NLP knowledge.<br>\n",
    "Note that not all preprocessing steps should be done for all the use cases. These steps are subjective. For example, in sentiment analysis, a word written in uppercase could have a latent meaning (say, the character was angry and the writer intended to illustrate the character's mood) in comparison to the same word written in lowercase."
   ]
  },
  {
   "cell_type": "code",
   "execution_count": 166,
   "metadata": {},
   "outputs": [
    {
     "data": {
      "text/html": [
       "<div>\n",
       "<style scoped>\n",
       "    .dataframe tbody tr th:only-of-type {\n",
       "        vertical-align: middle;\n",
       "    }\n",
       "\n",
       "    .dataframe tbody tr th {\n",
       "        vertical-align: top;\n",
       "    }\n",
       "\n",
       "    .dataframe thead th {\n",
       "        text-align: right;\n",
       "    }\n",
       "</style>\n",
       "<table border=\"1\" class=\"dataframe\">\n",
       "  <thead>\n",
       "    <tr style=\"text-align: right;\">\n",
       "      <th></th>\n",
       "      <th>review</th>\n",
       "    </tr>\n",
       "  </thead>\n",
       "  <tbody>\n",
       "    <tr>\n",
       "      <th>0_0.txt</th>\n",
       "      <td>I admit, the great majority of films released ...</td>\n",
       "    </tr>\n",
       "    <tr>\n",
       "      <th>10000_0.txt</th>\n",
       "      <td>Take a low budget, inexperienced actors doubli...</td>\n",
       "    </tr>\n",
       "    <tr>\n",
       "      <th>10001_0.txt</th>\n",
       "      <td>Everybody has seen 'Back To The Future,' right...</td>\n",
       "    </tr>\n",
       "    <tr>\n",
       "      <th>10002_0.txt</th>\n",
       "      <td>Doris Day was an icon of beauty in singing and...</td>\n",
       "    </tr>\n",
       "    <tr>\n",
       "      <th>10003_0.txt</th>\n",
       "      <td>After a series of silly, fun-loving movies, 19...</td>\n",
       "    </tr>\n",
       "  </tbody>\n",
       "</table>\n",
       "</div>"
      ],
      "text/plain": [
       "                                                        review\n",
       "0_0.txt      I admit, the great majority of films released ...\n",
       "10000_0.txt  Take a low budget, inexperienced actors doubli...\n",
       "10001_0.txt  Everybody has seen 'Back To The Future,' right...\n",
       "10002_0.txt  Doris Day was an icon of beauty in singing and...\n",
       "10003_0.txt  After a series of silly, fun-loving movies, 19..."
      ]
     },
     "execution_count": 166,
     "metadata": {},
     "output_type": "execute_result"
    }
   ],
   "source": [
    "reviews.drop([\"wordcount\"], axis = 1, inplace = True)\n",
    "reviews.head()"
   ]
  },
  {
   "cell_type": "markdown",
   "metadata": {},
   "source": [
    "### Remove HTML tags\n",
    "It is common among practitioners to collect text data for machine learning from the internet. As such, unwanted html tags get mixed with the content and introduce noise in the data. Before any preprocessing step is done, such unwanted tags should be removed."
   ]
  },
  {
   "cell_type": "code",
   "execution_count": 167,
   "metadata": {},
   "outputs": [
    {
     "data": {
      "text/html": [
       "<div>\n",
       "<style scoped>\n",
       "    .dataframe tbody tr th:only-of-type {\n",
       "        vertical-align: middle;\n",
       "    }\n",
       "\n",
       "    .dataframe tbody tr th {\n",
       "        vertical-align: top;\n",
       "    }\n",
       "\n",
       "    .dataframe thead th {\n",
       "        text-align: right;\n",
       "    }\n",
       "</style>\n",
       "<table border=\"1\" class=\"dataframe\">\n",
       "  <thead>\n",
       "    <tr style=\"text-align: right;\">\n",
       "      <th></th>\n",
       "      <th>review</th>\n",
       "    </tr>\n",
       "  </thead>\n",
       "  <tbody>\n",
       "    <tr>\n",
       "      <th>0_0.txt</th>\n",
       "      <td>&lt;html&gt; &lt;h1&gt; hello &lt;/h1&gt; &lt;/html&gt;I admit, the gr...</td>\n",
       "    </tr>\n",
       "    <tr>\n",
       "      <th>10000_0.txt</th>\n",
       "      <td>Take a low budget, inexperienced actors doubli...</td>\n",
       "    </tr>\n",
       "    <tr>\n",
       "      <th>10001_0.txt</th>\n",
       "      <td>Everybody has seen 'Back To The Future,' right...</td>\n",
       "    </tr>\n",
       "    <tr>\n",
       "      <th>10002_0.txt</th>\n",
       "      <td>Doris Day was an icon of beauty in singing and...</td>\n",
       "    </tr>\n",
       "    <tr>\n",
       "      <th>10003_0.txt</th>\n",
       "      <td>After a series of silly, fun-loving movies, 19...</td>\n",
       "    </tr>\n",
       "  </tbody>\n",
       "</table>\n",
       "</div>"
      ],
      "text/plain": [
       "                                                        review\n",
       "0_0.txt      <html> <h1> hello </h1> </html>I admit, the gr...\n",
       "10000_0.txt  Take a low budget, inexperienced actors doubli...\n",
       "10001_0.txt  Everybody has seen 'Back To The Future,' right...\n",
       "10002_0.txt  Doris Day was an icon of beauty in singing and...\n",
       "10003_0.txt  After a series of silly, fun-loving movies, 19..."
      ]
     },
     "execution_count": 167,
     "metadata": {},
     "output_type": "execute_result"
    }
   ],
   "source": [
    "from bs4 import BeautifulSoup\n",
    "\n",
    "def remove_html_tags(text):\n",
    "    return BeautifulSoup(text, \"html.parser\").get_text()\n",
    "\n",
    "# adding an html tag for the sake of illustration\n",
    "reviews.iloc[0,0] = \"<html> <h1> hello </h1> </html>\" + reviews.iloc[0,0] \n",
    "reviews.head()"
   ]
  },
  {
   "cell_type": "code",
   "execution_count": 168,
   "metadata": {},
   "outputs": [
    {
     "data": {
      "text/html": [
       "<div>\n",
       "<style scoped>\n",
       "    .dataframe tbody tr th:only-of-type {\n",
       "        vertical-align: middle;\n",
       "    }\n",
       "\n",
       "    .dataframe tbody tr th {\n",
       "        vertical-align: top;\n",
       "    }\n",
       "\n",
       "    .dataframe thead th {\n",
       "        text-align: right;\n",
       "    }\n",
       "</style>\n",
       "<table border=\"1\" class=\"dataframe\">\n",
       "  <thead>\n",
       "    <tr style=\"text-align: right;\">\n",
       "      <th></th>\n",
       "      <th>review</th>\n",
       "    </tr>\n",
       "  </thead>\n",
       "  <tbody>\n",
       "    <tr>\n",
       "      <th>0_0.txt</th>\n",
       "      <td>hello  I admit, the great majority of films ...</td>\n",
       "    </tr>\n",
       "    <tr>\n",
       "      <th>10000_0.txt</th>\n",
       "      <td>Take a low budget, inexperienced actors doubli...</td>\n",
       "    </tr>\n",
       "    <tr>\n",
       "      <th>10001_0.txt</th>\n",
       "      <td>Everybody has seen 'Back To The Future,' right...</td>\n",
       "    </tr>\n",
       "    <tr>\n",
       "      <th>10002_0.txt</th>\n",
       "      <td>Doris Day was an icon of beauty in singing and...</td>\n",
       "    </tr>\n",
       "    <tr>\n",
       "      <th>10003_0.txt</th>\n",
       "      <td>After a series of silly, fun-loving movies, 19...</td>\n",
       "    </tr>\n",
       "  </tbody>\n",
       "</table>\n",
       "</div>"
      ],
      "text/plain": [
       "                                                        review\n",
       "0_0.txt        hello  I admit, the great majority of films ...\n",
       "10000_0.txt  Take a low budget, inexperienced actors doubli...\n",
       "10001_0.txt  Everybody has seen 'Back To The Future,' right...\n",
       "10002_0.txt  Doris Day was an icon of beauty in singing and...\n",
       "10003_0.txt  After a series of silly, fun-loving movies, 19..."
      ]
     },
     "execution_count": 168,
     "metadata": {},
     "output_type": "execute_result"
    }
   ],
   "source": [
    "reviews[\"review\"] = [BeautifulSoup(text).get_text() for text in reviews[\"review\"] ]\n",
    "reviews.head()"
   ]
  },
  {
   "cell_type": "markdown",
   "metadata": {},
   "source": [
    "### Accented Characters Removal\n",
    "A lot of words in English language come from diverse backgrounds and are sometimes written in non-alphanumeric characters to preserve their origin. e.g., latté,résumé,etc. Hence, it is necessary to convert these accented characters into their English counterparts. If not done so, these characters will be lost when we remove non-alphanumeric characters down below. If these words are not preserved, they change to unwanted \"words\". e.g.latté becomes latt and résumé becomes rsum."
   ]
  },
  {
   "cell_type": "code",
   "execution_count": 169,
   "metadata": {},
   "outputs": [
    {
     "data": {
      "text/html": [
       "<div>\n",
       "<style scoped>\n",
       "    .dataframe tbody tr th:only-of-type {\n",
       "        vertical-align: middle;\n",
       "    }\n",
       "\n",
       "    .dataframe tbody tr th {\n",
       "        vertical-align: top;\n",
       "    }\n",
       "\n",
       "    .dataframe thead th {\n",
       "        text-align: right;\n",
       "    }\n",
       "</style>\n",
       "<table border=\"1\" class=\"dataframe\">\n",
       "  <thead>\n",
       "    <tr style=\"text-align: right;\">\n",
       "      <th></th>\n",
       "      <th>review</th>\n",
       "    </tr>\n",
       "  </thead>\n",
       "  <tbody>\n",
       "    <tr>\n",
       "      <th>0_0.txt</th>\n",
       "      <td>résumé   hello  I admit, the great majority of...</td>\n",
       "    </tr>\n",
       "    <tr>\n",
       "      <th>10000_0.txt</th>\n",
       "      <td>Take a low budget, inexperienced actors doubli...</td>\n",
       "    </tr>\n",
       "    <tr>\n",
       "      <th>10001_0.txt</th>\n",
       "      <td>Everybody has seen 'Back To The Future,' right...</td>\n",
       "    </tr>\n",
       "    <tr>\n",
       "      <th>10002_0.txt</th>\n",
       "      <td>Doris Day was an icon of beauty in singing and...</td>\n",
       "    </tr>\n",
       "    <tr>\n",
       "      <th>10003_0.txt</th>\n",
       "      <td>After a series of silly, fun-loving movies, 19...</td>\n",
       "    </tr>\n",
       "  </tbody>\n",
       "</table>\n",
       "</div>"
      ],
      "text/plain": [
       "                                                        review\n",
       "0_0.txt      résumé   hello  I admit, the great majority of...\n",
       "10000_0.txt  Take a low budget, inexperienced actors doubli...\n",
       "10001_0.txt  Everybody has seen 'Back To The Future,' right...\n",
       "10002_0.txt  Doris Day was an icon of beauty in singing and...\n",
       "10003_0.txt  After a series of silly, fun-loving movies, 19..."
      ]
     },
     "execution_count": 169,
     "metadata": {},
     "output_type": "execute_result"
    }
   ],
   "source": [
    "# adding an html tag for the sake of illustration\n",
    "reviews.iloc[0,0] = \"résumé \" + reviews.iloc[0,0] \n",
    "reviews.head()\n"
   ]
  },
  {
   "cell_type": "code",
   "execution_count": 170,
   "metadata": {},
   "outputs": [
    {
     "data": {
      "text/html": [
       "<div>\n",
       "<style scoped>\n",
       "    .dataframe tbody tr th:only-of-type {\n",
       "        vertical-align: middle;\n",
       "    }\n",
       "\n",
       "    .dataframe tbody tr th {\n",
       "        vertical-align: top;\n",
       "    }\n",
       "\n",
       "    .dataframe thead th {\n",
       "        text-align: right;\n",
       "    }\n",
       "</style>\n",
       "<table border=\"1\" class=\"dataframe\">\n",
       "  <thead>\n",
       "    <tr style=\"text-align: right;\">\n",
       "      <th></th>\n",
       "      <th>review</th>\n",
       "    </tr>\n",
       "  </thead>\n",
       "  <tbody>\n",
       "    <tr>\n",
       "      <th>0_0.txt</th>\n",
       "      <td>resume   hello  I admit, the great majority of...</td>\n",
       "    </tr>\n",
       "    <tr>\n",
       "      <th>10000_0.txt</th>\n",
       "      <td>Take a low budget, inexperienced actors doubli...</td>\n",
       "    </tr>\n",
       "    <tr>\n",
       "      <th>10001_0.txt</th>\n",
       "      <td>Everybody has seen 'Back To The Future,' right...</td>\n",
       "    </tr>\n",
       "    <tr>\n",
       "      <th>10002_0.txt</th>\n",
       "      <td>Doris Day was an icon of beauty in singing and...</td>\n",
       "    </tr>\n",
       "    <tr>\n",
       "      <th>10003_0.txt</th>\n",
       "      <td>After a series of silly, fun-loving movies, 19...</td>\n",
       "    </tr>\n",
       "  </tbody>\n",
       "</table>\n",
       "</div>"
      ],
      "text/plain": [
       "                                                        review\n",
       "0_0.txt      resume   hello  I admit, the great majority of...\n",
       "10000_0.txt  Take a low budget, inexperienced actors doubli...\n",
       "10001_0.txt  Everybody has seen 'Back To The Future,' right...\n",
       "10002_0.txt  Doris Day was an icon of beauty in singing and...\n",
       "10003_0.txt  After a series of silly, fun-loving movies, 19..."
      ]
     },
     "execution_count": 170,
     "metadata": {},
     "output_type": "execute_result"
    }
   ],
   "source": [
    "import unicodedata\n",
    "def remove_accented_chars(text):\n",
    "    text = unicodedata.normalize('NFKD', text).encode('ascii', 'ignore').decode('utf-8', 'ignore')\n",
    "    return text\n",
    "\n",
    "reviews[\"review\"] = [remove_accented_chars(text) for text in reviews[\"review\"] ]\n",
    "reviews.head()"
   ]
  },
  {
   "cell_type": "markdown",
   "metadata": {},
   "source": [
    "As evident above, the accented characters have changed to their English counterparts."
   ]
  },
  {
   "cell_type": "markdown",
   "metadata": {},
   "source": [
    "### Lower-casing\n",
    "In order to consider the words written in upper or lowercase as equivalent, all the words that contain uppercase characters should be converted into lowercase. However, this should be avoided when lower and uppercase are meanted to be considered different. e.g., to depict anger of the character"
   ]
  },
  {
   "cell_type": "code",
   "execution_count": 171,
   "metadata": {},
   "outputs": [
    {
     "data": {
      "text/html": [
       "<div>\n",
       "<style scoped>\n",
       "    .dataframe tbody tr th:only-of-type {\n",
       "        vertical-align: middle;\n",
       "    }\n",
       "\n",
       "    .dataframe tbody tr th {\n",
       "        vertical-align: top;\n",
       "    }\n",
       "\n",
       "    .dataframe thead th {\n",
       "        text-align: right;\n",
       "    }\n",
       "</style>\n",
       "<table border=\"1\" class=\"dataframe\">\n",
       "  <thead>\n",
       "    <tr style=\"text-align: right;\">\n",
       "      <th></th>\n",
       "      <th>review</th>\n",
       "      <th>review_lower</th>\n",
       "    </tr>\n",
       "  </thead>\n",
       "  <tbody>\n",
       "    <tr>\n",
       "      <th>0_0.txt</th>\n",
       "      <td>resume   hello  I admit, the great majority of...</td>\n",
       "      <td>resume   hello  i admit, the great majority of...</td>\n",
       "    </tr>\n",
       "    <tr>\n",
       "      <th>10000_0.txt</th>\n",
       "      <td>Take a low budget, inexperienced actors doubli...</td>\n",
       "      <td>take a low budget, inexperienced actors doubli...</td>\n",
       "    </tr>\n",
       "    <tr>\n",
       "      <th>10001_0.txt</th>\n",
       "      <td>Everybody has seen 'Back To The Future,' right...</td>\n",
       "      <td>everybody has seen 'back to the future,' right...</td>\n",
       "    </tr>\n",
       "    <tr>\n",
       "      <th>10002_0.txt</th>\n",
       "      <td>Doris Day was an icon of beauty in singing and...</td>\n",
       "      <td>doris day was an icon of beauty in singing and...</td>\n",
       "    </tr>\n",
       "    <tr>\n",
       "      <th>10003_0.txt</th>\n",
       "      <td>After a series of silly, fun-loving movies, 19...</td>\n",
       "      <td>after a series of silly, fun-loving movies, 19...</td>\n",
       "    </tr>\n",
       "  </tbody>\n",
       "</table>\n",
       "</div>"
      ],
      "text/plain": [
       "                                                        review  \\\n",
       "0_0.txt      resume   hello  I admit, the great majority of...   \n",
       "10000_0.txt  Take a low budget, inexperienced actors doubli...   \n",
       "10001_0.txt  Everybody has seen 'Back To The Future,' right...   \n",
       "10002_0.txt  Doris Day was an icon of beauty in singing and...   \n",
       "10003_0.txt  After a series of silly, fun-loving movies, 19...   \n",
       "\n",
       "                                                  review_lower  \n",
       "0_0.txt      resume   hello  i admit, the great majority of...  \n",
       "10000_0.txt  take a low budget, inexperienced actors doubli...  \n",
       "10001_0.txt  everybody has seen 'back to the future,' right...  \n",
       "10002_0.txt  doris day was an icon of beauty in singing and...  \n",
       "10003_0.txt  after a series of silly, fun-loving movies, 19...  "
      ]
     },
     "execution_count": 171,
     "metadata": {},
     "output_type": "execute_result"
    }
   ],
   "source": [
    "reviews[\"review_lower\"] = reviews[\"review\"].str.lower() # use panda's inbuilt method to convert each item to lowercase\n",
    "reviews.head()"
   ]
  },
  {
   "cell_type": "markdown",
   "metadata": {},
   "source": [
    "### Removal of Word Contractions\n",
    "In order to treat the words and their contractions as equivalent, we need to convert the contractions to their original form. Typically, contractions appear with an apostrophe. If not expanded, the apostrophe is removed when special characters are removed during preprocessing and the two forms of the same word get treated as different. e.g., \"don't\" and \"do not\"."
   ]
  },
  {
   "cell_type": "code",
   "execution_count": null,
   "metadata": {},
   "outputs": [],
   "source": []
  },
  {
   "cell_type": "markdown",
   "metadata": {},
   "source": [
    "### Punctuation/ Special Character Removal\n",
    "Punctuations and special characters typically do not add meaning to the text. e.g., The following two sentences still convey the same meaning with and wihout the ! sign. Sentence 1 : \"Hurray! I won\". Sentence 2 : \"Hurray I won\". This can be achieved in multiple ways using pandas or nltk library, or plain old python. Here we will replace every single character that is not either a lowercase or an uppercase english alphabet with a whitespace.<br>\n"
   ]
  },
  {
   "cell_type": "code",
   "execution_count": 172,
   "metadata": {},
   "outputs": [
    {
     "data": {
      "text/html": [
       "<div>\n",
       "<style scoped>\n",
       "    .dataframe tbody tr th:only-of-type {\n",
       "        vertical-align: middle;\n",
       "    }\n",
       "\n",
       "    .dataframe tbody tr th {\n",
       "        vertical-align: top;\n",
       "    }\n",
       "\n",
       "    .dataframe thead th {\n",
       "        text-align: right;\n",
       "    }\n",
       "</style>\n",
       "<table border=\"1\" class=\"dataframe\">\n",
       "  <thead>\n",
       "    <tr style=\"text-align: right;\">\n",
       "      <th></th>\n",
       "      <th>review</th>\n",
       "      <th>review_no_punc_and_nums</th>\n",
       "    </tr>\n",
       "  </thead>\n",
       "  <tbody>\n",
       "    <tr>\n",
       "      <th>0_0.txt</th>\n",
       "      <td>resume   hello  I admit, the great majority of...</td>\n",
       "      <td>resume   hello  I admit  the great majority of...</td>\n",
       "    </tr>\n",
       "    <tr>\n",
       "      <th>10000_0.txt</th>\n",
       "      <td>Take a low budget, inexperienced actors doubli...</td>\n",
       "      <td>Take a low budget  inexperienced actors doubli...</td>\n",
       "    </tr>\n",
       "    <tr>\n",
       "      <th>10001_0.txt</th>\n",
       "      <td>Everybody has seen 'Back To The Future,' right...</td>\n",
       "      <td>Everybody has seen  Back To The Future   right...</td>\n",
       "    </tr>\n",
       "    <tr>\n",
       "      <th>10002_0.txt</th>\n",
       "      <td>Doris Day was an icon of beauty in singing and...</td>\n",
       "      <td>Doris Day was an icon of beauty in singing and...</td>\n",
       "    </tr>\n",
       "    <tr>\n",
       "      <th>10003_0.txt</th>\n",
       "      <td>After a series of silly, fun-loving movies, 19...</td>\n",
       "      <td>After a series of silly  fun loving movies    ...</td>\n",
       "    </tr>\n",
       "  </tbody>\n",
       "</table>\n",
       "</div>"
      ],
      "text/plain": [
       "                                                        review  \\\n",
       "0_0.txt      resume   hello  I admit, the great majority of...   \n",
       "10000_0.txt  Take a low budget, inexperienced actors doubli...   \n",
       "10001_0.txt  Everybody has seen 'Back To The Future,' right...   \n",
       "10002_0.txt  Doris Day was an icon of beauty in singing and...   \n",
       "10003_0.txt  After a series of silly, fun-loving movies, 19...   \n",
       "\n",
       "                                       review_no_punc_and_nums  \n",
       "0_0.txt      resume   hello  I admit  the great majority of...  \n",
       "10000_0.txt  Take a low budget  inexperienced actors doubli...  \n",
       "10001_0.txt  Everybody has seen  Back To The Future   right...  \n",
       "10002_0.txt  Doris Day was an icon of beauty in singing and...  \n",
       "10003_0.txt  After a series of silly  fun loving movies    ...  "
      ]
     },
     "execution_count": 172,
     "metadata": {},
     "output_type": "execute_result"
    }
   ],
   "source": [
    "reviews.drop([\"review_lower\"], axis = 1, inplace = True)\n",
    "reviews[\"review_no_punc_and_nums\"] = reviews[\"review\"].str.replace(pat = \"[^a-zA-Z]\", repl = \" \")\n",
    "reviews.head()"
   ]
  },
  {
   "cell_type": "markdown",
   "metadata": {},
   "source": [
    "As seen above, the punctuations and digits in the text are removed.<br><br>\n",
    "However, this should be taken with a grain of salt. Numbers can sometime be helpful in NLP. For example, im movie review, if a review contains the digit 9 somewhere, there is a good chance this reviewer gave a score of 9 and this information can be very helpful for review classification. In such cases we do not want to discard the numbers in the text. This case will be handled down below. Thus, we can choose not to remove the numbers as below."
   ]
  },
  {
   "cell_type": "code",
   "execution_count": 173,
   "metadata": {},
   "outputs": [
    {
     "data": {
      "text/html": [
       "<div>\n",
       "<style scoped>\n",
       "    .dataframe tbody tr th:only-of-type {\n",
       "        vertical-align: middle;\n",
       "    }\n",
       "\n",
       "    .dataframe tbody tr th {\n",
       "        vertical-align: top;\n",
       "    }\n",
       "\n",
       "    .dataframe thead th {\n",
       "        text-align: right;\n",
       "    }\n",
       "</style>\n",
       "<table border=\"1\" class=\"dataframe\">\n",
       "  <thead>\n",
       "    <tr style=\"text-align: right;\">\n",
       "      <th></th>\n",
       "      <th>review</th>\n",
       "      <th>review_no_punc</th>\n",
       "    </tr>\n",
       "  </thead>\n",
       "  <tbody>\n",
       "    <tr>\n",
       "      <th>0_0.txt</th>\n",
       "      <td>resume   hello  I admit, the great majority of...</td>\n",
       "      <td>resume   hello  I admit  the great majority of...</td>\n",
       "    </tr>\n",
       "    <tr>\n",
       "      <th>10000_0.txt</th>\n",
       "      <td>Take a low budget, inexperienced actors doubli...</td>\n",
       "      <td>Take a low budget  inexperienced actors doubli...</td>\n",
       "    </tr>\n",
       "    <tr>\n",
       "      <th>10001_0.txt</th>\n",
       "      <td>Everybody has seen 'Back To The Future,' right...</td>\n",
       "      <td>Everybody has seen  Back To The Future   right...</td>\n",
       "    </tr>\n",
       "    <tr>\n",
       "      <th>10002_0.txt</th>\n",
       "      <td>Doris Day was an icon of beauty in singing and...</td>\n",
       "      <td>Doris Day was an icon of beauty in singing and...</td>\n",
       "    </tr>\n",
       "    <tr>\n",
       "      <th>10003_0.txt</th>\n",
       "      <td>After a series of silly, fun-loving movies, 19...</td>\n",
       "      <td>After a series of silly  fun loving movies  19...</td>\n",
       "    </tr>\n",
       "  </tbody>\n",
       "</table>\n",
       "</div>"
      ],
      "text/plain": [
       "                                                        review  \\\n",
       "0_0.txt      resume   hello  I admit, the great majority of...   \n",
       "10000_0.txt  Take a low budget, inexperienced actors doubli...   \n",
       "10001_0.txt  Everybody has seen 'Back To The Future,' right...   \n",
       "10002_0.txt  Doris Day was an icon of beauty in singing and...   \n",
       "10003_0.txt  After a series of silly, fun-loving movies, 19...   \n",
       "\n",
       "                                                review_no_punc  \n",
       "0_0.txt      resume   hello  I admit  the great majority of...  \n",
       "10000_0.txt  Take a low budget  inexperienced actors doubli...  \n",
       "10001_0.txt  Everybody has seen  Back To The Future   right...  \n",
       "10002_0.txt  Doris Day was an icon of beauty in singing and...  \n",
       "10003_0.txt  After a series of silly  fun loving movies  19...  "
      ]
     },
     "execution_count": 173,
     "metadata": {},
     "output_type": "execute_result"
    }
   ],
   "source": [
    "reviews.drop([\"review_no_punc_and_nums\"], axis = 1, inplace = True)\n",
    "reviews[\"review_no_punc\"] = reviews[\"review\"].str.replace(pat = \"[^a-zA-Z0-9]\", repl = \" \")\n",
    "reviews.head()"
   ]
  },
  {
   "cell_type": "markdown",
   "metadata": {},
   "source": [
    "As seen above, the number 19 is well preserved in the 5th review."
   ]
  },
  {
   "cell_type": "markdown",
   "metadata": {},
   "source": [
    "### Removing Whitespaces"
   ]
  },
  {
   "cell_type": "code",
   "execution_count": null,
   "metadata": {},
   "outputs": [],
   "source": []
  }
 ],
 "metadata": {
  "kernelspec": {
   "display_name": "Python 3",
   "language": "python",
   "name": "python3"
  },
  "language_info": {
   "codemirror_mode": {
    "name": "ipython",
    "version": 3
   },
   "file_extension": ".py",
   "mimetype": "text/x-python",
   "name": "python",
   "nbconvert_exporter": "python",
   "pygments_lexer": "ipython3",
   "version": "3.6.8"
  }
 },
 "nbformat": 4,
 "nbformat_minor": 2
}
